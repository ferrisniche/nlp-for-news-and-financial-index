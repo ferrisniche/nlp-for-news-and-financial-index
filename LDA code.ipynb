{
 "cells": [
  {
   "cell_type": "code",
   "execution_count": 1,
   "id": "dcad5991",
   "metadata": {},
   "outputs": [],
   "source": [
    "import pandas as pd\n",
    "import numpy as np\n",
    "import matplotlib.pyplot as plt\n",
    "import os"
   ]
  },
  {
   "cell_type": "code",
   "execution_count": 2,
   "id": "2a6332bb",
   "metadata": {},
   "outputs": [],
   "source": [
    "file_path = 'C:/Users/zz/Desktop/time series project/'\n",
    "os.chdir(file_path)"
   ]
  },
  {
   "cell_type": "code",
   "execution_count": 4,
   "id": "4b3b3ee2",
   "metadata": {},
   "outputs": [],
   "source": [
    "data = pd.read_csv('data.csv')"
   ]
  },
  {
   "cell_type": "code",
   "execution_count": 5,
   "id": "f2c4265f",
   "metadata": {},
   "outputs": [
    {
     "data": {
      "text/html": [
       "<div>\n",
       "<style scoped>\n",
       "    .dataframe tbody tr th:only-of-type {\n",
       "        vertical-align: middle;\n",
       "    }\n",
       "\n",
       "    .dataframe tbody tr th {\n",
       "        vertical-align: top;\n",
       "    }\n",
       "\n",
       "    .dataframe thead th {\n",
       "        text-align: right;\n",
       "    }\n",
       "</style>\n",
       "<table border=\"1\" class=\"dataframe\">\n",
       "  <thead>\n",
       "    <tr style=\"text-align: right;\">\n",
       "      <th></th>\n",
       "      <th>Unnamed: 0</th>\n",
       "      <th>content</th>\n",
       "      <th>content_cutted</th>\n",
       "    </tr>\n",
       "  </thead>\n",
       "  <tbody>\n",
       "    <tr>\n",
       "      <th>0</th>\n",
       "      <td>0</td>\n",
       "      <td>2023年12月08日新闻联播文字版\\n2023年12月8日\\n20231208今日新闻联播...</td>\n",
       "      <td>新闻联播 文字版 新闻联播 内容 会议 分析 研究 经济 工作 研究部署 建设 工作 纪律处...</td>\n",
       "    </tr>\n",
       "    <tr>\n",
       "      <th>1</th>\n",
       "      <td>1</td>\n",
       "      <td>2023年12月07日新闻联播文字版\\n2023年12月7日\\n20231207今日新闻联播...</td>\n",
       "      <td>新闻联播 文字版 新闻联播 内容 会见 主席 主席 国事访问 思想 党性 基层 老百姓 主席...</td>\n",
       "    </tr>\n",
       "    <tr>\n",
       "      <th>2</th>\n",
       "      <td>2</td>\n",
       "      <td>2023年12月06日新闻联播文字版\\n2023年12月6日\\n20231206今日新闻联播...</td>\n",
       "      <td>新闻联播 文字版 新闻联播 内容 总统 思想 党性 基层 优良传统 矢志 会见 总理 财政部...</td>\n",
       "    </tr>\n",
       "    <tr>\n",
       "      <th>3</th>\n",
       "      <td>3</td>\n",
       "      <td>2023年12月05日新闻联播文字版\\n2023年12月5日\\n20231205今日新闻联播...</td>\n",
       "      <td>新闻联播 文字版 新闻联播 内容 思想 征程 发展 新篇章 业务量 突破 旅游 经济 加速度...</td>\n",
       "    </tr>\n",
       "    <tr>\n",
       "      <th>4</th>\n",
       "      <td>4</td>\n",
       "      <td>2023年12月04日新闻联播文字版\\n2023年12月4日\\n20231204今日新闻联播...</td>\n",
       "      <td>新闻联播 文字版 新闻联播 内容 会见 总统 国家 宪法 宪法 宪法 发展 宪法 理政 国家...</td>\n",
       "    </tr>\n",
       "    <tr>\n",
       "      <th>...</th>\n",
       "      <td>...</td>\n",
       "      <td>...</td>\n",
       "      <td>...</td>\n",
       "    </tr>\n",
       "    <tr>\n",
       "      <th>395</th>\n",
       "      <td>395</td>\n",
       "      <td>2022年11月8日新闻联播文字版\\n2022年11月9日\\n20221108今日新闻联播主...</td>\n",
       "      <td>新闻联播 文字版 新闻联播 内容 军委 中心 精神 全面 合作 领导人 会议 人民日报 评论...</td>\n",
       "    </tr>\n",
       "    <tr>\n",
       "      <th>396</th>\n",
       "      <td>396</td>\n",
       "      <td>2022年11月7日新闻联播文字版\\n2022年11月8日\\n20221107今日新闻联播主...</td>\n",
       "      <td>新闻联播 文字版 新闻联播 内容 国际 竹藤 世界 竹藤 大会 共生 主席 公约 缔约方 大...</td>\n",
       "    </tr>\n",
       "    <tr>\n",
       "      <th>397</th>\n",
       "      <td>397</td>\n",
       "      <td>2022年11月6日新闻联播文字版\\n2022年11月7日\\n20221106今日新闻联播主...</td>\n",
       "      <td>新闻联播 文字版 新闻联播 内容 总统 合作 共创 主席 国际 进口 博览会 开幕式 反响 ...</td>\n",
       "    </tr>\n",
       "    <tr>\n",
       "      <th>398</th>\n",
       "      <td>398</td>\n",
       "      <td>2022年11月5日新闻联播文字版\\n2022年11月7日\\n20221105今日新闻联播主...</td>\n",
       "      <td>新闻联播 文字版 新闻联播 内容 国际 进口 博览会 开幕式 全球 发展 光明 前程 公约 ...</td>\n",
       "    </tr>\n",
       "    <tr>\n",
       "      <th>399</th>\n",
       "      <td>399</td>\n",
       "      <td>2022年11月4日新闻联播文字版\\n2022年11月7日\\n20221104今日新闻联播主...</td>\n",
       "      <td>新闻联播 文字版 新闻联播 内容 会见 举行仪式 总理 会见 记者 合作 领导人 会议 中央...</td>\n",
       "    </tr>\n",
       "  </tbody>\n",
       "</table>\n",
       "<p>400 rows × 3 columns</p>\n",
       "</div>"
      ],
      "text/plain": [
       "     Unnamed: 0                                            content  \\\n",
       "0             0  2023年12月08日新闻联播文字版\\n2023年12月8日\\n20231208今日新闻联播...   \n",
       "1             1  2023年12月07日新闻联播文字版\\n2023年12月7日\\n20231207今日新闻联播...   \n",
       "2             2  2023年12月06日新闻联播文字版\\n2023年12月6日\\n20231206今日新闻联播...   \n",
       "3             3  2023年12月05日新闻联播文字版\\n2023年12月5日\\n20231205今日新闻联播...   \n",
       "4             4  2023年12月04日新闻联播文字版\\n2023年12月4日\\n20231204今日新闻联播...   \n",
       "..          ...                                                ...   \n",
       "395         395  2022年11月8日新闻联播文字版\\n2022年11月9日\\n20221108今日新闻联播主...   \n",
       "396         396  2022年11月7日新闻联播文字版\\n2022年11月8日\\n20221107今日新闻联播主...   \n",
       "397         397  2022年11月6日新闻联播文字版\\n2022年11月7日\\n20221106今日新闻联播主...   \n",
       "398         398  2022年11月5日新闻联播文字版\\n2022年11月7日\\n20221105今日新闻联播主...   \n",
       "399         399  2022年11月4日新闻联播文字版\\n2022年11月7日\\n20221104今日新闻联播主...   \n",
       "\n",
       "                                        content_cutted  \n",
       "0    新闻联播 文字版 新闻联播 内容 会议 分析 研究 经济 工作 研究部署 建设 工作 纪律处...  \n",
       "1    新闻联播 文字版 新闻联播 内容 会见 主席 主席 国事访问 思想 党性 基层 老百姓 主席...  \n",
       "2    新闻联播 文字版 新闻联播 内容 总统 思想 党性 基层 优良传统 矢志 会见 总理 财政部...  \n",
       "3    新闻联播 文字版 新闻联播 内容 思想 征程 发展 新篇章 业务量 突破 旅游 经济 加速度...  \n",
       "4    新闻联播 文字版 新闻联播 内容 会见 总统 国家 宪法 宪法 宪法 发展 宪法 理政 国家...  \n",
       "..                                                 ...  \n",
       "395  新闻联播 文字版 新闻联播 内容 军委 中心 精神 全面 合作 领导人 会议 人民日报 评论...  \n",
       "396  新闻联播 文字版 新闻联播 内容 国际 竹藤 世界 竹藤 大会 共生 主席 公约 缔约方 大...  \n",
       "397  新闻联播 文字版 新闻联播 内容 总统 合作 共创 主席 国际 进口 博览会 开幕式 反响 ...  \n",
       "398  新闻联播 文字版 新闻联播 内容 国际 进口 博览会 开幕式 全球 发展 光明 前程 公约 ...  \n",
       "399  新闻联播 文字版 新闻联播 内容 会见 举行仪式 总理 会见 记者 合作 领导人 会议 中央...  \n",
       "\n",
       "[400 rows x 3 columns]"
      ]
     },
     "execution_count": 5,
     "metadata": {},
     "output_type": "execute_result"
    }
   ],
   "source": [
    "data"
   ]
  },
  {
   "cell_type": "code",
   "execution_count": 7,
   "id": "120c7479",
   "metadata": {},
   "outputs": [],
   "source": [
    "from sklearn.feature_extraction.text import TfidfVectorizer, CountVectorizer\n",
    "from sklearn.decomposition import LatentDirichletAllocation"
   ]
  },
  {
   "cell_type": "code",
   "execution_count": 6,
   "id": "6ed2684b",
   "metadata": {},
   "outputs": [],
   "source": [
    "def print_top_words(model, feature_names, n_top_words):\n",
    "    tword = []\n",
    "    for topic_idx, topic in enumerate(model.components_):\n",
    "        print(\"Topic #%d:\" % topic_idx)\n",
    "        topic_w = \" \".join([feature_names[i] for i in topic.argsort()[:-n_top_words - 1:-1]])\n",
    "        tword.append(topic_w)\n",
    "        print(topic_w)\n",
    "    return tword"
   ]
  },
  {
   "cell_type": "code",
   "execution_count": 8,
   "id": "816fb034",
   "metadata": {},
   "outputs": [],
   "source": [
    "n_features = 2000 #extract 2000 feature words \n",
    "tf_vectorizer = CountVectorizer(strip_accents = 'unicode',\n",
    "                                max_features=n_features,\n",
    "                                stop_words='english',\n",
    "                                max_df = 0.5,\n",
    "                                min_df = 10)\n",
    "tf = tf_vectorizer.fit_transform(data.content_cutted)"
   ]
  },
  {
   "cell_type": "code",
   "execution_count": 9,
   "id": "98417fda",
   "metadata": {},
   "outputs": [
    {
     "data": {
      "text/html": [
       "<style>#sk-container-id-1 {color: black;background-color: white;}#sk-container-id-1 pre{padding: 0;}#sk-container-id-1 div.sk-toggleable {background-color: white;}#sk-container-id-1 label.sk-toggleable__label {cursor: pointer;display: block;width: 100%;margin-bottom: 0;padding: 0.3em;box-sizing: border-box;text-align: center;}#sk-container-id-1 label.sk-toggleable__label-arrow:before {content: \"▸\";float: left;margin-right: 0.25em;color: #696969;}#sk-container-id-1 label.sk-toggleable__label-arrow:hover:before {color: black;}#sk-container-id-1 div.sk-estimator:hover label.sk-toggleable__label-arrow:before {color: black;}#sk-container-id-1 div.sk-toggleable__content {max-height: 0;max-width: 0;overflow: hidden;text-align: left;background-color: #f0f8ff;}#sk-container-id-1 div.sk-toggleable__content pre {margin: 0.2em;color: black;border-radius: 0.25em;background-color: #f0f8ff;}#sk-container-id-1 input.sk-toggleable__control:checked~div.sk-toggleable__content {max-height: 200px;max-width: 100%;overflow: auto;}#sk-container-id-1 input.sk-toggleable__control:checked~label.sk-toggleable__label-arrow:before {content: \"▾\";}#sk-container-id-1 div.sk-estimator input.sk-toggleable__control:checked~label.sk-toggleable__label {background-color: #d4ebff;}#sk-container-id-1 div.sk-label input.sk-toggleable__control:checked~label.sk-toggleable__label {background-color: #d4ebff;}#sk-container-id-1 input.sk-hidden--visually {border: 0;clip: rect(1px 1px 1px 1px);clip: rect(1px, 1px, 1px, 1px);height: 1px;margin: -1px;overflow: hidden;padding: 0;position: absolute;width: 1px;}#sk-container-id-1 div.sk-estimator {font-family: monospace;background-color: #f0f8ff;border: 1px dotted black;border-radius: 0.25em;box-sizing: border-box;margin-bottom: 0.5em;}#sk-container-id-1 div.sk-estimator:hover {background-color: #d4ebff;}#sk-container-id-1 div.sk-parallel-item::after {content: \"\";width: 100%;border-bottom: 1px solid gray;flex-grow: 1;}#sk-container-id-1 div.sk-label:hover label.sk-toggleable__label {background-color: #d4ebff;}#sk-container-id-1 div.sk-serial::before {content: \"\";position: absolute;border-left: 1px solid gray;box-sizing: border-box;top: 0;bottom: 0;left: 50%;z-index: 0;}#sk-container-id-1 div.sk-serial {display: flex;flex-direction: column;align-items: center;background-color: white;padding-right: 0.2em;padding-left: 0.2em;position: relative;}#sk-container-id-1 div.sk-item {position: relative;z-index: 1;}#sk-container-id-1 div.sk-parallel {display: flex;align-items: stretch;justify-content: center;background-color: white;position: relative;}#sk-container-id-1 div.sk-item::before, #sk-container-id-1 div.sk-parallel-item::before {content: \"\";position: absolute;border-left: 1px solid gray;box-sizing: border-box;top: 0;bottom: 0;left: 50%;z-index: -1;}#sk-container-id-1 div.sk-parallel-item {display: flex;flex-direction: column;z-index: 1;position: relative;background-color: white;}#sk-container-id-1 div.sk-parallel-item:first-child::after {align-self: flex-end;width: 50%;}#sk-container-id-1 div.sk-parallel-item:last-child::after {align-self: flex-start;width: 50%;}#sk-container-id-1 div.sk-parallel-item:only-child::after {width: 0;}#sk-container-id-1 div.sk-dashed-wrapped {border: 1px dashed gray;margin: 0 0.4em 0.5em 0.4em;box-sizing: border-box;padding-bottom: 0.4em;background-color: white;}#sk-container-id-1 div.sk-label label {font-family: monospace;font-weight: bold;display: inline-block;line-height: 1.2em;}#sk-container-id-1 div.sk-label-container {text-align: center;}#sk-container-id-1 div.sk-container {/* jupyter's `normalize.less` sets `[hidden] { display: none; }` but bootstrap.min.css set `[hidden] { display: none !important; }` so we also need the `!important` here to be able to override the default hidden behavior on the sphinx rendered scikit-learn.org. See: https://github.com/scikit-learn/scikit-learn/issues/21755 */display: inline-block !important;position: relative;}#sk-container-id-1 div.sk-text-repr-fallback {display: none;}</style><div id=\"sk-container-id-1\" class=\"sk-top-container\"><div class=\"sk-text-repr-fallback\"><pre>LatentDirichletAllocation(doc_topic_prior=0.1, learning_offset=50, max_iter=50,\n",
       "                          random_state=0, topic_word_prior=0.01)</pre><b>In a Jupyter environment, please rerun this cell to show the HTML representation or trust the notebook. <br />On GitHub, the HTML representation is unable to render, please try loading this page with nbviewer.org.</b></div><div class=\"sk-container\" hidden><div class=\"sk-item\"><div class=\"sk-estimator sk-toggleable\"><input class=\"sk-toggleable__control sk-hidden--visually\" id=\"sk-estimator-id-1\" type=\"checkbox\" checked><label for=\"sk-estimator-id-1\" class=\"sk-toggleable__label sk-toggleable__label-arrow\">LatentDirichletAllocation</label><div class=\"sk-toggleable__content\"><pre>LatentDirichletAllocation(doc_topic_prior=0.1, learning_offset=50, max_iter=50,\n",
       "                          random_state=0, topic_word_prior=0.01)</pre></div></div></div></div></div>"
      ],
      "text/plain": [
       "LatentDirichletAllocation(doc_topic_prior=0.1, learning_offset=50, max_iter=50,\n",
       "                          random_state=0, topic_word_prior=0.01)"
      ]
     },
     "execution_count": 9,
     "metadata": {},
     "output_type": "execute_result"
    }
   ],
   "source": [
    "n_topics = 10\n",
    "lda = LatentDirichletAllocation(n_components=n_topics, max_iter=50,\n",
    "                                learning_method='batch',\n",
    "                                learning_offset=50,\n",
    "                                 doc_topic_prior=0.1,\n",
    "                                 topic_word_prior=0.01,\n",
    "                               random_state=0)\n",
    "lda.fit(tf)"
   ]
  },
  {
   "cell_type": "code",
   "execution_count": 10,
   "id": "76717507",
   "metadata": {},
   "outputs": [
    {
     "data": {
      "text/plain": [
       "1273.0021767976484"
      ]
     },
     "execution_count": 10,
     "metadata": {},
     "output_type": "execute_result"
    }
   ],
   "source": [
    "lda.perplexity(tf)"
   ]
  },
  {
   "cell_type": "code",
   "execution_count": 11,
   "id": "e942cfca",
   "metadata": {},
   "outputs": [
    {
     "name": "stdout",
     "output_type": "stream",
     "text": [
      "Topic #0:\n",
      "会见 倡议 领导人 峰会 论坛 战略伙伴 人文 共识 互利 对话 两国人民 原则 开幕式 协作 高度 国事访问 经贸 高峰论坛 合作伙伴 主义 伙伴 气候变化 朋友 共同利益 伙伴关系\n",
      "Topic #1:\n",
      "理论 干部 文章 讲话 监督 宣传 统一 马克思主义 法治 意识 革命 全党 决策 斗争 党和国家 决定性 开局 中华 单位 领悟 党组 培训 党校 运用 实际\n",
      "Topic #2:\n",
      "旅客 消费 人们 游客 春运 客流 体验 节目 招待会 金牌 冰雪 交通 比赛 公路 市民 大使馆 民众 兔年 景区 小时 祖国 女子 水路 技能 冠军\n",
      "Topic #3:\n",
      "航天员 神舟 载人 空间站 航天 飞船 乘组 耕地 天舟 座谈会 货运 劳动 太空 组合体 实验 事故 人口 盐碱地 京津冀 空间 火箭 协同 发射场 文章 调研\n",
      "Topic #4:\n",
      "金砖 金融 座谈会 责任 经济社会 力度 协同 格局 倡议 环境保护 监管 决策 质量 负责同志 调研 进出口 主体 合理 意见 大局 民生 动力 生物 试验区 改革开放\n",
      "Topic #5:\n",
      "消费 地带 医院 月份 互联网 物流 博会 社区 基层 外贸 转型 网络 进口 制造业 博览会 总体 数字化 冰雪 出口 动能 进出口 汽车 智能 武装 供给\n",
      "Topic #6:\n",
      "应急 防汛 调研 大学生 高校 核污染 运动会 面积 秋粮 大运会 粮食 高温 救援 部队 全力 毕业生 大火 设施 民众 公园 运动员 天气 代表团 火炬 救灾\n",
      "Topic #7:\n",
      "疫情 防控 新冠 病例 通报 社区 医疗 疫苗 肺炎 患者 宣讲团 病毒 精准 调整 本土 负责人 药品 医院 基层 方案 人群 检测 重症 成员 老年人\n",
      "Topic #8:\n",
      "管道 事件 救援 粮食 地震 制造业 集团 农村 事故 调研 民众 集群 人才 小麦 质量 银行 武器 基地 天然气 贷款 布局 有限公司 农田 抗议 公司\n",
      "Topic #9:\n",
      "草案 委员 宪法 主席团 代表团 委员长 人大代表 妇女 党和国家 建议 残疾人 部长 秘书长 决议 法律 全体会议 汇报 议案 伟业 常务主席 人选 名单 任命 审查 主任委员\n"
     ]
    }
   ],
   "source": [
    "n_top_words = 25 #print the 25 most frequent words for each topics\n",
    "tf_feature_names = tf_vectorizer.get_feature_names_out()\n",
    "topic_word = print_top_words(lda, tf_feature_names, n_top_words)"
   ]
  },
  {
   "cell_type": "markdown",
   "id": "efbead04",
   "metadata": {},
   "source": [
    "According to the above top words for each topics, we may conclude what is the specific topic for each one.       \n",
    "Topic #0: international affairs     \n",
    "Topic #1: party affairs      \n",
    "Topic #2: transportation      \n",
    "Topic #3: aerospace         \n",
    "Topic #4: finance        \n",
    "Topic #5: economy         \n",
    "Topic #6: disaster relief            \n",
    "Topic #7: COVID-19         \n",
    "Topic #8: other affairs         \n",
    "Topic #9: laws         "
   ]
  },
  {
   "cell_type": "code",
   "execution_count": 12,
   "id": "49fd1c12",
   "metadata": {},
   "outputs": [],
   "source": [
    "topics=lda.transform(tf)"
   ]
  },
  {
   "cell_type": "code",
   "execution_count": 15,
   "id": "0cba1749",
   "metadata": {},
   "outputs": [
    {
     "data": {
      "text/plain": [
       "(400, 10)"
      ]
     },
     "execution_count": 15,
     "metadata": {},
     "output_type": "execute_result"
    }
   ],
   "source": [
    "topics.shape"
   ]
  }
 ],
 "metadata": {
  "kernelspec": {
   "display_name": "Python 3 (ipykernel)",
   "language": "python",
   "name": "python3"
  },
  "language_info": {
   "codemirror_mode": {
    "name": "ipython",
    "version": 3
   },
   "file_extension": ".py",
   "mimetype": "text/x-python",
   "name": "python",
   "nbconvert_exporter": "python",
   "pygments_lexer": "ipython3",
   "version": "3.11.5"
  }
 },
 "nbformat": 4,
 "nbformat_minor": 5
}
